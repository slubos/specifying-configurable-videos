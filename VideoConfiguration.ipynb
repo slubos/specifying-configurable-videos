{
 "cells": [
  {
   "cell_type": "markdown",
   "source": [
    "# Configurable Transformer Video - Example"
   ],
   "metadata": {
    "collapsed": false,
    "pycharm": {
     "name": "#%% md\n"
    }
   }
  },
  {
   "cell_type": "markdown",
   "source": [
    "## Helper methods for Feature Model generation"
   ],
   "metadata": {
    "collapsed": false,
    "pycharm": {
     "name": "#%% md\n"
    }
   }
  },
  {
   "cell_type": "code",
   "execution_count": 1,
   "outputs": [],
   "source": [
    "# Add variables to the FM\n",
    "def add_fm_variables(model):\n",
    "    variables[model[\"id\"]] = Var(True, False, id=model[\"id\"])\n",
    "    for child in model[\"children\"]:\n",
    "        add_fm_variables(child)\n",
    "\n",
    "# Add constraints to the FM\n",
    "def add_fm_constraints(model, parent):\n",
    "    if model[\"type\"] == \"root\":\n",
    "        satisfy(variables[model[\"id\"]] == 1)\n",
    "    elif model[\"type\"] == \"mandatory\" and model[\"relation\"] == \"\":\n",
    "        satisfy(variables[model[\"id\"]] == variables[model[\"parent\"]])\n",
    "    elif model[\"type\"] == \"optional\" and model[\"relation\"] == \"\":\n",
    "        satisfy(imply(variables[model[\"id\"]], variables[model[\"parent\"]]))\n",
    "    elif (model[\"type\"] == \"mandatory\" or model[\"type\"] == \"optional\") and (model[\"relation\"] == \"alternative\" or model[\"relation\"] == \"or\"):\n",
    "        all_children_ids = [c[\"id\"] for c in parent[\"children\"]]\n",
    "        all_children_vars = [~variables[cid] for cid in all_children_ids]\n",
    "\n",
    "        if model[\"relation\"] == \"or\":\n",
    "            satisfy(variables[parent[\"id\"]] == disjunction(*all_children_vars))\n",
    "        elif model[\"relation\"] == \"alternative\":\n",
    "            all_children_vars_orders = []\n",
    "            i = 0\n",
    "            while i < len(all_children_vars):\n",
    "                if i == 0:\n",
    "                    all_children_vars_orders.append(~all_children_vars[i] == conjunction([*all_children_vars[i + 1 : ], variables[parent[\"id\"]]]))\n",
    "                elif i == len(all_children_vars) - 1:\n",
    "                    all_children_vars_orders.append(~all_children_vars[i] == conjunction([*all_children_vars[0 : -1], variables[parent[\"id\"]]]))\n",
    "                else:\n",
    "                    all_children_vars_orders.append(~all_children_vars[i] == conjunction([*all_children_vars[0 : i], *all_children_vars[i + 1 : ], variables[parent[\"id\"]]]))\n",
    "                i += 1\n",
    "            satisfy(disjunction(*all_children_vars_orders))\n",
    "\n",
    "    for r in model[\"requires\"]:\n",
    "        satisfy(imply(variables[model[\"id\"]], variables[r]))\n",
    "\n",
    "    for e in model[\"excludes\"]:\n",
    "        satisfy(~variables[model[\"id\"]] | variables[e])\n",
    "\n",
    "    for child in model[\"children\"]:\n",
    "        add_fm_constraints(child, model)\n",
    "\n",
    "# Add variables and constraints for the video duration to the FM\n",
    "def add_fm_duration_variables_and_constraints(videos_data):\n",
    "    duration_values = [v[\"duration\"] for v in videos_data.values()]\n",
    "    duration_keys = []\n",
    "\n",
    "    for video_key in videos_data.keys():\n",
    "        name = f\"{video_key}_duration\"\n",
    "        duration_keys.append(name)\n",
    "        variables[name] = Var(0, videos_data[video_key][\"duration\"], id=name)\n",
    "        satisfy((variables[video_key] == 1) == (variables[name] > 0))\n",
    "\n",
    "    variables[\"max_duration\"] = Var(range(0, sum(duration_values)), id=\"max_duration\")\n",
    "    satisfy(sum([variables[d] for d in duration_keys]) <= variables[\"max_duration\"])\n",
    "\n",
    "# Adds the user preference for duration\n",
    "def add_duration_preference(max_duration):\n",
    "    satisfy(variables[\"max_duration\"] == max_duration)"
   ],
   "metadata": {
    "collapsed": false,
    "pycharm": {
     "name": "#%%\n"
    }
   }
  },
  {
   "cell_type": "markdown",
   "source": [
    "## Load video files and configuration model"
   ],
   "metadata": {
    "collapsed": false,
    "pycharm": {
     "name": "#%% md\n"
    }
   }
  },
  {
   "cell_type": "code",
   "execution_count": 2,
   "outputs": [],
   "source": [
    "import json\n",
    "\n",
    "# Video file\n",
    "with open(\"TransformerExample/videos.json\", \"r\") as videos_file:\n",
    "    videos = json.load(videos_file)\n",
    "\n",
    "# Configuration model\n",
    "with open(\"TransformerExample/model.json\", \"r\") as model_file:\n",
    "    video_model = json.load(model_file)"
   ],
   "metadata": {
    "collapsed": false,
    "pycharm": {
     "name": "#%%\n"
    }
   }
  },
  {
   "cell_type": "markdown",
   "source": [
    "## Initialize the FM"
   ],
   "metadata": {
    "collapsed": false,
    "pycharm": {
     "name": "#%% md\n"
    }
   }
  },
  {
   "cell_type": "code",
   "execution_count": 3,
   "outputs": [],
   "source": [
    "from pycsp3 import *\n",
    "\n",
    "# Reset FM\n",
    "clear()\n",
    "\n",
    "# Define the FM\n",
    "variables = {}\n",
    "add_fm_variables(video_model)\n",
    "add_fm_duration_variables_and_constraints(videos)\n",
    "add_fm_constraints(video_model, None)\n",
    "\n",
    "# Define the user preference for duration\n",
    "duration_preference = 500\n",
    "add_duration_preference(duration_preference)"
   ],
   "metadata": {
    "collapsed": false,
    "pycharm": {
     "name": "#%%\n"
    }
   }
  },
  {
   "cell_type": "markdown",
   "source": [
    "## Find solutions"
   ],
   "metadata": {
    "collapsed": false,
    "pycharm": {
     "name": "#%% md\n"
    }
   }
  },
  {
   "cell_type": "code",
   "execution_count": null,
   "outputs": [],
   "source": [
    "if solve(sols=ALL) is SAT:\n",
    "    print(f\"Total number of solutions {n_solutions()}\")\n",
    "    solutions = []\n",
    "    for i in range(n_solutions()):\n",
    "        video_keys = []\n",
    "        playlist = []\n",
    "        for key in videos.keys():\n",
    "            if value(variables[key], sol=i):\n",
    "                video_keys.append(key)\n",
    "                playlist.append(videos[key][\"url\"])\n",
    "        solutions.append({\n",
    "            \"total_duration\": sum([videos[k][\"duration\"] for k in video_keys]),\n",
    "            \"video_keys\": video_keys,\n",
    "            \"playlist\": playlist\n",
    "        })"
   ],
   "metadata": {
    "collapsed": false,
    "pycharm": {
     "name": "#%%\n",
     "is_executing": true
    }
   }
  },
  {
   "cell_type": "markdown",
   "source": [
    "## Inspect solutions\n",
    "All solutions are persisted in 'solutions_df'. To determine which of those should be returned, different heuristics are applicable."
   ],
   "metadata": {
    "collapsed": false,
    "pycharm": {
     "name": "#%% md\n"
    }
   }
  },
  {
   "cell_type": "code",
   "execution_count": 5,
   "outputs": [],
   "source": [
    "import pandas as pd\n",
    "solutions_df = pd.DataFrame(solutions)"
   ],
   "metadata": {
    "collapsed": false,
    "pycharm": {
     "name": "#%%\n"
    }
   }
  },
  {
   "cell_type": "markdown",
   "source": [
    "### Return shortest version"
   ],
   "metadata": {
    "collapsed": false,
    "pycharm": {
     "name": "#%% md\n"
    }
   }
  },
  {
   "cell_type": "code",
   "execution_count": null,
   "outputs": [],
   "source": [
    "shortest_configuration = solutions_df.sort_values('total_duration', ascending=True).iloc[0]\n",
    "print(f\"Video Keys: {shortest_configuration['video_keys']} \\nPlaylist: {shortest_configuration['playlist']} \\nTotal Duration: {shortest_configuration['total_duration']} s\")"
   ],
   "metadata": {
    "collapsed": false,
    "pycharm": {
     "name": "#%%\n",
     "is_executing": true
    }
   }
  },
  {
   "cell_type": "markdown",
   "source": [
    "### Return longest version\n"
   ],
   "metadata": {
    "collapsed": false,
    "pycharm": {
     "name": "#%% md\n"
    }
   }
  },
  {
   "cell_type": "code",
   "execution_count": null,
   "outputs": [],
   "source": [
    "longest_configuration = solutions_df.sort_values('total_duration', ascending=False).iloc[0]\n",
    "print(f\"Video Keys: {longest_configuration['video_keys']} \\nPlaylist: {longest_configuration['playlist']} \\nTotal Duration: {longest_configuration['total_duration']} s\")"
   ],
   "metadata": {
    "collapsed": false,
    "pycharm": {
     "name": "#%%\n",
     "is_executing": true
    }
   }
  }
 ],
 "metadata": {
  "kernelspec": {
   "display_name": "Python 3",
   "language": "python",
   "name": "python3"
  },
  "language_info": {
   "codemirror_mode": {
    "name": "ipython",
    "version": 2
   },
   "file_extension": ".py",
   "mimetype": "text/x-python",
   "name": "python",
   "nbconvert_exporter": "python",
   "pygments_lexer": "ipython2",
   "version": "2.7.6"
  }
 },
 "nbformat": 4,
 "nbformat_minor": 0
}